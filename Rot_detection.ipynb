{
 "cells": [
  {
   "cell_type": "markdown",
   "metadata": {},
   "source": [
    "## Using VggNET"
   ]
  },
  {
   "cell_type": "code",
   "execution_count": 4,
   "metadata": {},
   "outputs": [],
   "source": [
    "import tensorflow as tf\n",
    "from tensorflow.keras.models import Sequential\n",
    "from tensorflow.keras.layers import Dense, Flatten, Dropout, Conv2D, MaxPooling2D\n",
    "from tensorflow.keras.preprocessing.image import ImageDataGenerator\n",
    "import matplotlib.pyplot as plt\n",
    "import seaborn as sns\n",
    "import pandas as pd"
   ]
  },
  {
   "cell_type": "code",
   "execution_count": 2,
   "metadata": {},
   "outputs": [],
   "source": [
    "train_path = '/Users/krish/Dataset/dataset/train'\n",
    "test_path = '/Users/krish/Dataset/dataset/test'\n",
    "BATCH_SIZE = 10"
   ]
  },
  {
   "cell_type": "code",
   "execution_count": 3,
   "metadata": {},
   "outputs": [
    {
     "name": "stdout",
     "output_type": "stream",
     "text": [
      "Found 5501 images belonging to 6 classes.\n",
      "Found 1384 images belonging to 6 classes.\n"
     ]
    }
   ],
   "source": [
    "train_batches = ImageDataGenerator(\n",
    "    preprocessing_function=tf.keras.applications.vgg16.preprocess_input,\n",
    "    rescale=1/255.,\n",
    "    horizontal_flip=True,\n",
    "    vertical_flip=True\n",
    ").flow_from_directory(\n",
    "    directory=train_path,\n",
    "    target_size=(20, 20),\n",
    "    classes=['freshapples', 'freshbananas', 'freshoranges', 'rottenapples', 'rottenbananas','rottenorganges'],\n",
    "    batch_size=BATCH_SIZE,\n",
    "    class_mode='categorical',\n",
    "    color_mode='rgb'\n",
    ")\n",
    "test_batches = ImageDataGenerator(\n",
    "    preprocessing_function=tf.keras.applications.vgg16.preprocess_input, rescale=1/255.\n",
    ").flow_from_directory(\n",
    "    directory=test_path,\n",
    "    target_size=(20, 20),\n",
    "    classes=['freshapples', 'freshbananas', 'freshoranges', 'rottenapples', 'rottenbananas','rottenorganges'],\n",
    "    batch_size=BATCH_SIZE,\n",
    "    class_mode='categorical',\n",
    "    color_mode='rgb',\n",
    "    shuffle=False\n",
    ")"
   ]
  },
  {
   "cell_type": "code",
   "execution_count": 4,
   "metadata": {},
   "outputs": [
    {
     "name": "stdout",
     "output_type": "stream",
     "text": [
      "Epoch 1/17\n",
      "551/551 [==============================] - 30s 42ms/step - loss: 0.4479 - accuracy: 0.8069\n",
      "Epoch 2/17\n",
      "551/551 [==============================] - 17s 30ms/step - loss: 0.2359 - accuracy: 0.9057\n",
      "Epoch 3/17\n",
      "551/551 [==============================] - 17s 31ms/step - loss: 0.1711 - accuracy: 0.9344\n",
      "Epoch 4/17\n",
      "551/551 [==============================] - 18s 32ms/step - loss: 0.1486 - accuracy: 0.9449\n",
      "Epoch 5/17\n",
      "551/551 [==============================] - 18s 34ms/step - loss: 0.1349 - accuracy: 0.9464\n",
      "Epoch 6/17\n",
      "551/551 [==============================] - 19s 34ms/step - loss: 0.1049 - accuracy: 0.9566\n",
      "Epoch 7/17\n",
      "551/551 [==============================] - 19s 34ms/step - loss: 0.1051 - accuracy: 0.9595\n",
      "Epoch 8/17\n",
      "551/551 [==============================] - 18s 33ms/step - loss: 0.0865 - accuracy: 0.9667\n",
      "Epoch 9/17\n",
      "551/551 [==============================] - 21s 39ms/step - loss: 0.0880 - accuracy: 0.9660\n",
      "Epoch 10/17\n",
      "551/551 [==============================] - 21s 38ms/step - loss: 0.0644 - accuracy: 0.9778\n",
      "Epoch 11/17\n",
      "551/551 [==============================] - 19s 35ms/step - loss: 0.0626 - accuracy: 0.9784\n",
      "Epoch 12/17\n",
      "551/551 [==============================] - 18s 33ms/step - loss: 0.0690 - accuracy: 0.9722\n",
      "Epoch 13/17\n",
      "551/551 [==============================] - 19s 34ms/step - loss: 0.0580 - accuracy: 0.9780\n",
      "Epoch 14/17\n",
      "551/551 [==============================] - 20s 36ms/step - loss: 0.0641 - accuracy: 0.9773\n",
      "Epoch 15/17\n",
      "551/551 [==============================] - 19s 35ms/step - loss: 0.0479 - accuracy: 0.9833\n",
      "Epoch 16/17\n",
      "551/551 [==============================] - 19s 35ms/step - loss: 0.0426 - accuracy: 0.9838\n",
      "Epoch 17/17\n",
      "551/551 [==============================] - 18s 33ms/step - loss: 0.0392 - accuracy: 0.9865\n"
     ]
    },
    {
     "data": {
      "text/plain": [
       "<keras.callbacks.History at 0x16ac78ef3c8>"
      ]
     },
     "execution_count": 4,
     "metadata": {},
     "output_type": "execute_result"
    }
   ],
   "source": [
    "model = Sequential()\n",
    "model.add(Conv2D(32, (3, 3), activation=('relu'), input_shape=(20, 20, 3)))\n",
    "model.add(MaxPooling2D((2, 2)))\n",
    "model.add(Conv2D(64,(3,3), activation=('relu')))\n",
    "model.add(MaxPooling2D(2,2))\n",
    "model.add(Flatten())\n",
    "model.add(Dense(128, activation=('relu')))\n",
    "model.add(Dense(128, activation=('relu')))\n",
    "model.add(Dense(6, activation=('softmax')))\n",
    "#evaluating the model\n",
    "model.compile(optimizer='adam', loss='categorical_crossentropy', metrics=['accuracy'])\n",
    "model.fit(train_batches, epochs=17)"
   ]
  },
  {
   "cell_type": "markdown",
   "metadata": {},
   "source": [
    "### VggNet Evaluation"
   ]
  },
  {
   "cell_type": "code",
   "execution_count": 5,
   "metadata": {},
   "outputs": [
    {
     "name": "stdout",
     "output_type": "stream",
     "text": [
      "139/139 [==============================] - 6s 41ms/step - loss: 0.0450 - accuracy: 0.9841\n"
     ]
    },
    {
     "data": {
      "text/plain": [
       "[0.04496585950255394, 0.9841040372848511]"
      ]
     },
     "execution_count": 5,
     "metadata": {},
     "output_type": "execute_result"
    }
   ],
   "source": [
    "model.evaluate(test_batches)"
   ]
  },
  {
   "cell_type": "markdown",
   "metadata": {},
   "source": [
    "# Using ResNET"
   ]
  },
  {
   "cell_type": "code",
   "execution_count": 6,
   "metadata": {},
   "outputs": [
    {
     "name": "stdout",
     "output_type": "stream",
     "text": [
      "Found 5501 images belonging to 6 classes.\n",
      "Found 1384 images belonging to 6 classes.\n"
     ]
    }
   ],
   "source": [
    "train_batches = ImageDataGenerator(\n",
    "    preprocessing_function=tf.keras.applications.resnet.preprocess_input,\n",
    "    rescale=1/255.,\n",
    "    horizontal_flip=True,\n",
    "    vertical_flip=True\n",
    ").flow_from_directory(\n",
    "    directory=train_path,\n",
    "    target_size=(20, 20),\n",
    "    classes=['freshapples', 'freshbananas', 'freshoranges', 'rottenapples', 'rottenbananas','rottenorganges'],\n",
    "    batch_size=BATCH_SIZE,\n",
    "    class_mode='categorical',\n",
    "    color_mode='rgb'\n",
    ")\n",
    "test_batches = ImageDataGenerator(\n",
    "    preprocessing_function=tf.keras.applications.resnet.preprocess_input, rescale=1/255.\n",
    ").flow_from_directory(\n",
    "    directory=test_path,\n",
    "    target_size=(20, 20),\n",
    "    classes=['freshapples', 'freshbananas', 'freshoranges', 'rottenapples', 'rottenbananas','rottenorganges'],\n",
    "    batch_size=BATCH_SIZE,\n",
    "    class_mode='categorical',\n",
    "    color_mode='rgb',\n",
    "    shuffle=False\n",
    ")"
   ]
  },
  {
   "cell_type": "code",
   "execution_count": 7,
   "metadata": {},
   "outputs": [
    {
     "name": "stdout",
     "output_type": "stream",
     "text": [
      "Epoch 1/17\n",
      "551/551 [==============================] - 16s 29ms/step - loss: 0.4708 - accuracy: 0.7946\n",
      "Epoch 2/17\n",
      "551/551 [==============================] - 19s 34ms/step - loss: 0.2319 - accuracy: 0.9095\n",
      "Epoch 3/17\n",
      "551/551 [==============================] - 19s 35ms/step - loss: 0.1868 - accuracy: 0.9255\n",
      "Epoch 4/17\n",
      "551/551 [==============================] - 20s 36ms/step - loss: 0.1558 - accuracy: 0.9380\n",
      "Epoch 5/17\n",
      "551/551 [==============================] - 18s 32ms/step - loss: 0.1328 - accuracy: 0.9456\n",
      "Epoch 6/17\n",
      "551/551 [==============================] - 18s 32ms/step - loss: 0.1249 - accuracy: 0.9513\n",
      "Epoch 7/17\n",
      "551/551 [==============================] - 18s 32ms/step - loss: 0.1028 - accuracy: 0.9629\n",
      "Epoch 8/17\n",
      "551/551 [==============================] - 18s 32ms/step - loss: 0.1055 - accuracy: 0.9631\n",
      "Epoch 9/17\n",
      "551/551 [==============================] - 18s 32ms/step - loss: 0.0830 - accuracy: 0.9682\n",
      "Epoch 10/17\n",
      "551/551 [==============================] - 18s 33ms/step - loss: 0.0773 - accuracy: 0.9716\n",
      "Epoch 11/17\n",
      "551/551 [==============================] - 18s 33ms/step - loss: 0.0694 - accuracy: 0.9746\n",
      "Epoch 12/17\n",
      "551/551 [==============================] - 18s 32ms/step - loss: 0.0594 - accuracy: 0.9776\n",
      "Epoch 13/17\n",
      "551/551 [==============================] - 18s 32ms/step - loss: 0.0611 - accuracy: 0.9771\n",
      "Epoch 14/17\n",
      "551/551 [==============================] - 18s 32ms/step - loss: 0.0494 - accuracy: 0.9816\n",
      "Epoch 15/17\n",
      "551/551 [==============================] - 20s 36ms/step - loss: 0.0473 - accuracy: 0.9844\n",
      "Epoch 16/17\n",
      "551/551 [==============================] - 19s 34ms/step - loss: 0.0422 - accuracy: 0.9838\n",
      "Epoch 17/17\n",
      "551/551 [==============================] - 21s 39ms/step - loss: 0.0427 - accuracy: 0.9860\n"
     ]
    },
    {
     "data": {
      "text/plain": [
       "<keras.callbacks.History at 0x16bbcef69c8>"
      ]
     },
     "execution_count": 7,
     "metadata": {},
     "output_type": "execute_result"
    }
   ],
   "source": [
    "model = Sequential()\n",
    "model.add(Conv2D(32, (3, 3), activation=('relu'), input_shape=(20, 20, 3)))\n",
    "model.add(MaxPooling2D((2, 2)))\n",
    "model.add(Conv2D(64,(3,3), activation=('relu')))\n",
    "model.add(MaxPooling2D(2,2))\n",
    "model.add(Flatten())\n",
    "model.add(Dense(128, activation=('relu')))\n",
    "model.add(Dense(128, activation=('relu')))\n",
    "model.add(Dense(6, activation=('softmax')))\n",
    "#evaluating the model\n",
    "model.compile(optimizer='adam', loss='categorical_crossentropy', metrics=['accuracy'])\n",
    "model.fit(train_batches, epochs=17)"
   ]
  },
  {
   "cell_type": "markdown",
   "metadata": {},
   "source": [
    "### ResNet evaluation"
   ]
  },
  {
   "cell_type": "code",
   "execution_count": 8,
   "metadata": {},
   "outputs": [
    {
     "name": "stdout",
     "output_type": "stream",
     "text": [
      "139/139 [==============================] - 5s 34ms/step - loss: 0.0483 - accuracy: 0.9812\n"
     ]
    },
    {
     "data": {
      "text/plain": [
       "[0.04829622432589531, 0.9812138676643372]"
      ]
     },
     "execution_count": 8,
     "metadata": {},
     "output_type": "execute_result"
    }
   ],
   "source": [
    "model.evaluate(test_batches)"
   ]
  },
  {
   "cell_type": "markdown",
   "metadata": {},
   "source": [
    "## Using NasNet"
   ]
  },
  {
   "cell_type": "code",
   "execution_count": 25,
   "metadata": {},
   "outputs": [
    {
     "name": "stdout",
     "output_type": "stream",
     "text": [
      "Found 5501 images belonging to 6 classes.\n",
      "Found 1384 images belonging to 6 classes.\n"
     ]
    }
   ],
   "source": [
    "train_batches = ImageDataGenerator(\n",
    "    preprocessing_function=tf.keras.applications.nasnet.preprocess_input,\n",
    "    rescale=1/255.,\n",
    "    horizontal_flip=True,\n",
    "    vertical_flip=True\n",
    ").flow_from_directory(\n",
    "    directory=train_path,\n",
    "    target_size=(20, 20),\n",
    "    classes=['freshapples', 'freshbananas', 'freshoranges', 'rottenapples', 'rottenbananas','rottenorganges'],\n",
    "    batch_size=BATCH_SIZE,\n",
    "    class_mode='categorical',\n",
    "    color_mode='rgb'\n",
    ")\n",
    "test_batches = ImageDataGenerator(\n",
    "    preprocessing_function=tf.keras.applications.nasnet.preprocess_input, rescale=1/255.\n",
    ").flow_from_directory(\n",
    "    directory=test_path,\n",
    "    target_size=(20, 20),\n",
    "    classes=['freshapples', 'freshbananas', 'freshoranges', 'rottenapples', 'rottenbananas','rottenorganges'],\n",
    "    batch_size=BATCH_SIZE,\n",
    "    class_mode='categorical',\n",
    "    color_mode='rgb',\n",
    "    shuffle=False\n",
    ")"
   ]
  },
  {
   "cell_type": "code",
   "execution_count": 26,
   "metadata": {},
   "outputs": [
    {
     "name": "stdout",
     "output_type": "stream",
     "text": [
      "Epoch 1/17\n",
      "551/551 [==============================] - 37s 61ms/step - loss: 1.0399 - accuracy: 0.4506\n",
      "Epoch 2/17\n",
      "551/551 [==============================] - 22s 39ms/step - loss: 0.7280 - accuracy: 0.6375\n",
      "Epoch 3/17\n",
      "551/551 [==============================] - 21s 38ms/step - loss: 0.5756 - accuracy: 0.7377\n",
      "Epoch 4/17\n",
      "551/551 [==============================] - 22s 39ms/step - loss: 0.4622 - accuracy: 0.8044\n",
      "Epoch 5/17\n",
      "551/551 [==============================] - 23s 42ms/step - loss: 0.3744 - accuracy: 0.8431\n",
      "Epoch 6/17\n",
      "551/551 [==============================] - 21s 38ms/step - loss: 0.2990 - accuracy: 0.8802\n",
      "Epoch 7/17\n",
      "551/551 [==============================] - 22s 41ms/step - loss: 0.2502 - accuracy: 0.9035\n",
      "Epoch 8/17\n",
      "551/551 [==============================] - 23s 42ms/step - loss: 0.2162 - accuracy: 0.9166\n",
      "Epoch 9/17\n",
      "551/551 [==============================] - 22s 39ms/step - loss: 0.2063 - accuracy: 0.9178\n",
      "Epoch 10/17\n",
      "551/551 [==============================] - 26s 48ms/step - loss: 0.1982 - accuracy: 0.9182\n",
      "Epoch 11/17\n",
      "551/551 [==============================] - 22s 40ms/step - loss: 0.1760 - accuracy: 0.9315\n",
      "Epoch 12/17\n",
      "551/551 [==============================] - 22s 40ms/step - loss: 0.1657 - accuracy: 0.9356\n",
      "Epoch 13/17\n",
      "551/551 [==============================] - 23s 42ms/step - loss: 0.1804 - accuracy: 0.9271\n",
      "Epoch 14/17\n",
      "551/551 [==============================] - 24s 43ms/step - loss: 0.1574 - accuracy: 0.9378\n",
      "Epoch 15/17\n",
      "551/551 [==============================] - 25s 45ms/step - loss: 0.1580 - accuracy: 0.9333\n",
      "Epoch 16/17\n",
      "551/551 [==============================] - 24s 43ms/step - loss: 0.1432 - accuracy: 0.9424\n",
      "Epoch 17/17\n",
      "551/551 [==============================] - 21s 38ms/step - loss: 0.1392 - accuracy: 0.9444\n"
     ]
    },
    {
     "data": {
      "text/plain": [
       "<keras.callbacks.History at 0x16be4804488>"
      ]
     },
     "execution_count": 26,
     "metadata": {},
     "output_type": "execute_result"
    }
   ],
   "source": [
    "model = Sequential()\n",
    "model.add(Conv2D(32, (3, 3), activation=('relu'), input_shape=(20, 20, 3)))\n",
    "model.add(MaxPooling2D((2, 2)))\n",
    "model.add(Conv2D(64,(3,3), activation=('relu')))\n",
    "model.add(MaxPooling2D(2,2))\n",
    "model.add(Flatten())\n",
    "model.add(Dense(128, activation=('relu')))\n",
    "model.add(Dense(128, activation=('relu')))\n",
    "model.add(Dense(6, activation=('softmax')))\n",
    "#evaluating the model\n",
    "model.compile(optimizer='adam', loss='categorical_crossentropy', metrics=['accuracy'])\n",
    "model.fit(train_batches, epochs=17)"
   ]
  },
  {
   "cell_type": "markdown",
   "metadata": {},
   "source": [
    "### NasNet evaluation"
   ]
  },
  {
   "cell_type": "code",
   "execution_count": 27,
   "metadata": {},
   "outputs": [
    {
     "name": "stdout",
     "output_type": "stream",
     "text": [
      "139/139 [==============================] - 6s 37ms/step - loss: 0.1606 - accuracy: 0.9379\n"
     ]
    },
    {
     "data": {
      "text/plain": [
       "[0.16064754128456116, 0.9378612637519836]"
      ]
     },
     "execution_count": 27,
     "metadata": {},
     "output_type": "execute_result"
    }
   ],
   "source": [
    "model.evaluate(test_batches)"
   ]
  },
  {
   "cell_type": "markdown",
   "metadata": {},
   "source": [
    "## Using Xception"
   ]
  },
  {
   "cell_type": "code",
   "execution_count": 28,
   "metadata": {},
   "outputs": [
    {
     "name": "stdout",
     "output_type": "stream",
     "text": [
      "Found 5501 images belonging to 6 classes.\n",
      "Found 1384 images belonging to 6 classes.\n"
     ]
    }
   ],
   "source": [
    "train_batches = ImageDataGenerator(\n",
    "    preprocessing_function=tf.keras.applications.xception.preprocess_input,\n",
    "    rescale=1/255.,\n",
    "    horizontal_flip=True,\n",
    "    vertical_flip=True\n",
    ").flow_from_directory(\n",
    "    directory=train_path,\n",
    "    target_size=(20, 20),\n",
    "    classes=['freshapples', 'freshbananas', 'freshoranges', 'rottenapples', 'rottenbananas','rottenorganges'],\n",
    "    batch_size=BATCH_SIZE,\n",
    "    class_mode='categorical',\n",
    "    color_mode='rgb'\n",
    ")\n",
    "test_batches = ImageDataGenerator(\n",
    "    preprocessing_function=tf.keras.applications.xception.preprocess_input, rescale=1/255.\n",
    ").flow_from_directory(\n",
    "    directory=test_path,\n",
    "    target_size=(20, 20),\n",
    "    classes=['freshapples', 'freshbananas', 'freshoranges', 'rottenapples', 'rottenbananas','rottenorganges'],\n",
    "    batch_size=BATCH_SIZE,\n",
    "    class_mode='categorical',\n",
    "    color_mode='rgb',\n",
    "    shuffle=False\n",
    ")"
   ]
  },
  {
   "cell_type": "code",
   "execution_count": 29,
   "metadata": {},
   "outputs": [
    {
     "name": "stdout",
     "output_type": "stream",
     "text": [
      "Epoch 1/17\n",
      "551/551 [==============================] - 18s 31ms/step - loss: 1.0651 - accuracy: 0.4296\n",
      "Epoch 2/17\n",
      "551/551 [==============================] - 19s 35ms/step - loss: 0.7082 - accuracy: 0.6293\n",
      "Epoch 3/17\n",
      "551/551 [==============================] - 19s 35ms/step - loss: 0.5483 - accuracy: 0.7548\n",
      "Epoch 4/17\n",
      "551/551 [==============================] - 19s 35ms/step - loss: 0.4076 - accuracy: 0.8320\n",
      "Epoch 5/17\n",
      "551/551 [==============================] - 19s 35ms/step - loss: 0.3328 - accuracy: 0.8680\n",
      "Epoch 6/17\n",
      "551/551 [==============================] - 20s 36ms/step - loss: 0.3068 - accuracy: 0.8782\n",
      "Epoch 7/17\n",
      "551/551 [==============================] - 20s 36ms/step - loss: 0.2699 - accuracy: 0.8937\n",
      "Epoch 8/17\n",
      "551/551 [==============================] - 20s 36ms/step - loss: 0.2395 - accuracy: 0.9073\n",
      "Epoch 9/17\n",
      "551/551 [==============================] - 20s 35ms/step - loss: 0.2329 - accuracy: 0.9106\n",
      "Epoch 10/17\n",
      "551/551 [==============================] - 20s 36ms/step - loss: 0.2201 - accuracy: 0.9140\n",
      "Epoch 11/17\n",
      "551/551 [==============================] - 20s 36ms/step - loss: 0.2111 - accuracy: 0.9198\n",
      "Epoch 12/17\n",
      "551/551 [==============================] - 20s 36ms/step - loss: 0.2058 - accuracy: 0.9209\n",
      "Epoch 13/17\n",
      "551/551 [==============================] - 20s 36ms/step - loss: 0.1872 - accuracy: 0.9247\n",
      "Epoch 14/17\n",
      "551/551 [==============================] - 20s 36ms/step - loss: 0.1805 - accuracy: 0.9280\n",
      "Epoch 15/17\n",
      "551/551 [==============================] - 20s 36ms/step - loss: 0.1664 - accuracy: 0.9338\n",
      "Epoch 16/17\n",
      "551/551 [==============================] - 20s 37ms/step - loss: 0.1675 - accuracy: 0.9336\n",
      "Epoch 17/17\n",
      "551/551 [==============================] - 20s 36ms/step - loss: 0.1585 - accuracy: 0.9362\n"
     ]
    },
    {
     "data": {
      "text/plain": [
       "<keras.callbacks.History at 0x16be4d11588>"
      ]
     },
     "execution_count": 29,
     "metadata": {},
     "output_type": "execute_result"
    }
   ],
   "source": [
    "model = Sequential()\n",
    "model.add(Conv2D(32, (3, 3), activation=('relu'), input_shape=(20, 20, 3)))\n",
    "model.add(MaxPooling2D((2, 2)))\n",
    "model.add(Conv2D(64,(3,3), activation=('relu')))\n",
    "model.add(MaxPooling2D(2,2))\n",
    "model.add(Flatten())\n",
    "model.add(Dense(128, activation=('relu')))\n",
    "model.add(Dense(128, activation=('relu')))\n",
    "model.add(Dense(6, activation=('softmax')))\n",
    "#evaluating the model\n",
    "model.compile(optimizer='adam', loss='categorical_crossentropy', metrics=['accuracy'])\n",
    "model.fit(train_batches, epochs=17)"
   ]
  },
  {
   "cell_type": "markdown",
   "metadata": {},
   "source": [
    "### Xception evaluation"
   ]
  },
  {
   "cell_type": "code",
   "execution_count": 30,
   "metadata": {},
   "outputs": [
    {
     "name": "stdout",
     "output_type": "stream",
     "text": [
      "139/139 [==============================] - 5s 27ms/step - loss: 0.1782 - accuracy: 0.9234\n"
     ]
    },
    {
     "data": {
      "text/plain": [
       "[0.1781654953956604, 0.9234104156494141]"
      ]
     },
     "execution_count": 30,
     "metadata": {},
     "output_type": "execute_result"
    }
   ],
   "source": [
    "model.evaluate(test_batches)"
   ]
  },
  {
   "cell_type": "markdown",
   "metadata": {},
   "source": [
    "## Using ResNet50"
   ]
  },
  {
   "cell_type": "code",
   "execution_count": 15,
   "metadata": {},
   "outputs": [
    {
     "name": "stdout",
     "output_type": "stream",
     "text": [
      "Found 5501 images belonging to 6 classes.\n",
      "Found 1384 images belonging to 6 classes.\n"
     ]
    }
   ],
   "source": [
    "train_batches = ImageDataGenerator(\n",
    "    preprocessing_function=tf.keras.applications.resnet50.preprocess_input,\n",
    "    rescale=1/255.,\n",
    "    horizontal_flip=True,\n",
    "    vertical_flip=True\n",
    ").flow_from_directory(\n",
    "    directory=train_path,\n",
    "    target_size=(20, 20),\n",
    "    classes=['freshapples', 'freshbananas', 'freshoranges', 'rottenapples', 'rottenbananas','rottenorganges'],\n",
    "    batch_size=BATCH_SIZE,\n",
    "    class_mode='categorical',\n",
    "    color_mode='rgb'\n",
    ")\n",
    "test_batches = ImageDataGenerator(\n",
    "    preprocessing_function=tf.keras.applications.resnet50.preprocess_input, rescale=1/255.\n",
    ").flow_from_directory(\n",
    "    directory=test_path,\n",
    "    target_size=(20, 20),\n",
    "    classes=['freshapples', 'freshbananas', 'freshoranges', 'rottenapples', 'rottenbananas','rottenorganges'],\n",
    "    batch_size=BATCH_SIZE,\n",
    "    class_mode='categorical',\n",
    "    color_mode='rgb',\n",
    "    shuffle=False\n",
    ")"
   ]
  },
  {
   "cell_type": "code",
   "execution_count": 19,
   "metadata": {},
   "outputs": [
    {
     "name": "stdout",
     "output_type": "stream",
     "text": [
      "Epoch 1/17\n",
      "551/551 [==============================] - 18s 32ms/step - loss: 0.4971 - accuracy: 0.7755\n",
      "Epoch 2/17\n",
      "551/551 [==============================] - 19s 35ms/step - loss: 0.2333 - accuracy: 0.9064\n",
      "Epoch 3/17\n",
      "551/551 [==============================] - 20s 36ms/step - loss: 0.1793 - accuracy: 0.9306\n",
      "Epoch 4/17\n",
      "551/551 [==============================] - 20s 36ms/step - loss: 0.1642 - accuracy: 0.9364\n",
      "Epoch 5/17\n",
      "551/551 [==============================] - 19s 35ms/step - loss: 0.1433 - accuracy: 0.9442\n",
      "Epoch 6/17\n",
      "551/551 [==============================] - 20s 36ms/step - loss: 0.1251 - accuracy: 0.9506\n",
      "Epoch 7/17\n",
      "551/551 [==============================] - 20s 36ms/step - loss: 0.1007 - accuracy: 0.9595\n",
      "Epoch 8/17\n",
      "551/551 [==============================] - 20s 36ms/step - loss: 0.0896 - accuracy: 0.9687\n",
      "Epoch 9/17\n",
      "551/551 [==============================] - 20s 36ms/step - loss: 0.0841 - accuracy: 0.9696\n",
      "Epoch 10/17\n",
      "551/551 [==============================] - 20s 35ms/step - loss: 0.0757 - accuracy: 0.9709\n",
      "Epoch 11/17\n",
      "551/551 [==============================] - 20s 36ms/step - loss: 0.0742 - accuracy: 0.9715\n",
      "Epoch 12/17\n",
      "551/551 [==============================] - 20s 36ms/step - loss: 0.0532 - accuracy: 0.9798\n",
      "Epoch 13/17\n",
      "551/551 [==============================] - 20s 36ms/step - loss: 0.0585 - accuracy: 0.9775\n",
      "Epoch 14/17\n",
      "551/551 [==============================] - 20s 36ms/step - loss: 0.0487 - accuracy: 0.9822\n",
      "Epoch 15/17\n",
      "551/551 [==============================] - 20s 36ms/step - loss: 0.0455 - accuracy: 0.9838\n",
      "Epoch 16/17\n",
      "551/551 [==============================] - 20s 36ms/step - loss: 0.0473 - accuracy: 0.9835\n",
      "Epoch 17/17\n",
      "551/551 [==============================] - 20s 36ms/step - loss: 0.0398 - accuracy: 0.9856\n"
     ]
    },
    {
     "data": {
      "text/plain": [
       "<keras.callbacks.History at 0x16be1fb3788>"
      ]
     },
     "execution_count": 19,
     "metadata": {},
     "output_type": "execute_result"
    }
   ],
   "source": [
    "model = Sequential()\n",
    "model.add(Conv2D(32, (3, 3), activation=('relu'), input_shape=(20, 20, 3)))\n",
    "model.add(MaxPooling2D((2, 2)))\n",
    "model.add(Conv2D(64,(3,3), activation=('relu')))\n",
    "model.add(MaxPooling2D(2,2))\n",
    "model.add(Flatten())\n",
    "model.add(Dense(128, activation=('relu')))\n",
    "model.add(Dense(128, activation=('relu')))\n",
    "model.add(Dense(6, activation=('softmax')))\n",
    "#evaluating the model\n",
    "model.compile(optimizer='adam', loss='categorical_crossentropy', metrics=['accuracy'])\n",
    "model.fit(train_batches, epochs=17)"
   ]
  },
  {
   "cell_type": "markdown",
   "metadata": {},
   "source": [
    "### ResNet50 evaluation"
   ]
  },
  {
   "cell_type": "code",
   "execution_count": 20,
   "metadata": {},
   "outputs": [
    {
     "name": "stdout",
     "output_type": "stream",
     "text": [
      "139/139 [==============================] - 4s 27ms/step - loss: 0.0595 - accuracy: 0.9827\n"
     ]
    },
    {
     "data": {
      "text/plain": [
       "[0.05951313674449921, 0.9826589822769165]"
      ]
     },
     "execution_count": 20,
     "metadata": {},
     "output_type": "execute_result"
    }
   ],
   "source": [
    "model.evaluate(test_batches)"
   ]
  },
  {
   "cell_type": "markdown",
   "metadata": {},
   "source": [
    "## Using ResNet v2"
   ]
  },
  {
   "cell_type": "code",
   "execution_count": 31,
   "metadata": {},
   "outputs": [
    {
     "name": "stdout",
     "output_type": "stream",
     "text": [
      "Found 5501 images belonging to 6 classes.\n",
      "Found 1384 images belonging to 6 classes.\n"
     ]
    }
   ],
   "source": [
    "train_batches = ImageDataGenerator(\n",
    "    preprocessing_function=tf.keras.applications.resnet_v2.preprocess_input,\n",
    "    rescale=1/255.,\n",
    "    horizontal_flip=True,\n",
    "    vertical_flip=True\n",
    ").flow_from_directory(\n",
    "    directory=train_path,\n",
    "    target_size=(20, 20),\n",
    "    classes=['freshapples', 'freshbananas', 'freshoranges', 'rottenapples', 'rottenbananas','rottenorganges'],\n",
    "    batch_size=BATCH_SIZE,\n",
    "    class_mode='categorical',\n",
    "    color_mode='rgb'\n",
    ")\n",
    "test_batches = ImageDataGenerator(\n",
    "    preprocessing_function=tf.keras.applications.resnet_v2.preprocess_input, rescale=1/255.\n",
    ").flow_from_directory(\n",
    "    directory=test_path,\n",
    "    target_size=(20, 20),\n",
    "    classes=['freshapples', 'freshbananas', 'freshoranges', 'rottenapples', 'rottenbananas','rottenorganges'],\n",
    "    batch_size=BATCH_SIZE,\n",
    "    class_mode='categorical',\n",
    "    color_mode='rgb',\n",
    "    shuffle=False\n",
    ")"
   ]
  },
  {
   "cell_type": "code",
   "execution_count": 32,
   "metadata": {},
   "outputs": [
    {
     "name": "stdout",
     "output_type": "stream",
     "text": [
      "Epoch 1/17\n",
      "551/551 [==============================] - 31s 30ms/step - loss: 1.0584 - accuracy: 0.4481\n",
      "Epoch 2/17\n",
      "551/551 [==============================] - 19s 34ms/step - loss: 0.7643 - accuracy: 0.6017\n",
      "Epoch 3/17\n",
      "551/551 [==============================] - 20s 35ms/step - loss: 0.6185 - accuracy: 0.7093\n",
      "Epoch 4/17\n",
      "551/551 [==============================] - 20s 36ms/step - loss: 0.5150 - accuracy: 0.7755\n",
      "Epoch 5/17\n",
      "551/551 [==============================] - 20s 35ms/step - loss: 0.3867 - accuracy: 0.8460\n",
      "Epoch 6/17\n",
      "551/551 [==============================] - 20s 36ms/step - loss: 0.3031 - accuracy: 0.8838\n",
      "Epoch 7/17\n",
      "551/551 [==============================] - 20s 36ms/step - loss: 0.2815 - accuracy: 0.8897\n",
      "Epoch 8/17\n",
      "551/551 [==============================] - 20s 36ms/step - loss: 0.2474 - accuracy: 0.9037\n",
      "Epoch 9/17\n",
      "551/551 [==============================] - 20s 36ms/step - loss: 0.2267 - accuracy: 0.9107\n",
      "Epoch 10/17\n",
      "551/551 [==============================] - 20s 36ms/step - loss: 0.2086 - accuracy: 0.9180\n",
      "Epoch 11/17\n",
      "551/551 [==============================] - 20s 36ms/step - loss: 0.1940 - accuracy: 0.9264\n",
      "Epoch 12/17\n",
      "551/551 [==============================] - 20s 36ms/step - loss: 0.1739 - accuracy: 0.9296\n",
      "Epoch 13/17\n",
      "551/551 [==============================] - 20s 36ms/step - loss: 0.1699 - accuracy: 0.9333\n",
      "Epoch 14/17\n",
      "551/551 [==============================] - 20s 36ms/step - loss: 0.1556 - accuracy: 0.9375\n",
      "Epoch 15/17\n",
      "551/551 [==============================] - 20s 36ms/step - loss: 0.1571 - accuracy: 0.9406\n",
      "Epoch 16/17\n",
      "551/551 [==============================] - 20s 37ms/step - loss: 0.1577 - accuracy: 0.9362\n",
      "Epoch 17/17\n",
      "551/551 [==============================] - 20s 37ms/step - loss: 0.1379 - accuracy: 0.9473\n"
     ]
    },
    {
     "data": {
      "text/plain": [
       "<keras.callbacks.History at 0x16be61e6f48>"
      ]
     },
     "execution_count": 32,
     "metadata": {},
     "output_type": "execute_result"
    }
   ],
   "source": [
    "model = Sequential()\n",
    "model.add(Conv2D(32, (3, 3), activation=('relu'), input_shape=(20, 20, 3)))\n",
    "model.add(MaxPooling2D((2, 2)))\n",
    "model.add(Conv2D(64,(3,3), activation=('relu')))\n",
    "model.add(MaxPooling2D(2,2))\n",
    "model.add(Flatten())\n",
    "model.add(Dense(128, activation=('relu')))\n",
    "model.add(Dense(128, activation=('relu')))\n",
    "model.add(Dense(6, activation=('softmax')))\n",
    "#evaluating the model\n",
    "model.compile(optimizer='adam', loss='categorical_crossentropy', metrics=['accuracy'])\n",
    "model.fit(train_batches, epochs=17)"
   ]
  },
  {
   "cell_type": "markdown",
   "metadata": {},
   "source": [
    "### ResNetv2 evaluation"
   ]
  },
  {
   "cell_type": "code",
   "execution_count": 33,
   "metadata": {},
   "outputs": [
    {
     "name": "stdout",
     "output_type": "stream",
     "text": [
      "139/139 [==============================] - 5s 29ms/step - loss: 0.1203 - accuracy: 0.9538 \n"
     ]
    },
    {
     "data": {
      "text/plain": [
       "[0.12034077942371368, 0.9537572264671326]"
      ]
     },
     "execution_count": 33,
     "metadata": {},
     "output_type": "execute_result"
    }
   ],
   "source": [
    "model.evaluate(test_batches)"
   ]
  },
  {
   "cell_type": "markdown",
   "metadata": {},
   "source": [
    "## Using DenseNet"
   ]
  },
  {
   "cell_type": "code",
   "execution_count": 34,
   "metadata": {},
   "outputs": [
    {
     "name": "stdout",
     "output_type": "stream",
     "text": [
      "Found 5501 images belonging to 6 classes.\n",
      "Found 1384 images belonging to 6 classes.\n"
     ]
    }
   ],
   "source": [
    "train_batches = ImageDataGenerator(\n",
    "    preprocessing_function=tf.keras.applications.densenet.preprocess_input,\n",
    "    rescale=1/255.,\n",
    "    horizontal_flip=True,\n",
    "    vertical_flip=True\n",
    ").flow_from_directory(\n",
    "    directory=train_path,\n",
    "    target_size=(20, 20),\n",
    "    classes=['freshapples', 'freshbananas', 'freshoranges', 'rottenapples', 'rottenbananas','rottenorganges'],\n",
    "    batch_size=BATCH_SIZE,\n",
    "    class_mode='categorical',\n",
    "    color_mode='rgb'\n",
    ")\n",
    "test_batches = ImageDataGenerator(\n",
    "    preprocessing_function=tf.keras.applications.densenet.preprocess_input, rescale=1/255.\n",
    ").flow_from_directory(\n",
    "    directory=test_path,\n",
    "    target_size=(20, 20),\n",
    "    classes=['freshapples', 'freshbananas', 'freshoranges', 'rottenapples', 'rottenbananas','rottenorganges'],\n",
    "    batch_size=BATCH_SIZE,\n",
    "    class_mode='categorical',\n",
    "    color_mode='rgb',\n",
    "    shuffle=False\n",
    ")"
   ]
  },
  {
   "cell_type": "code",
   "execution_count": 35,
   "metadata": {},
   "outputs": [
    {
     "name": "stdout",
     "output_type": "stream",
     "text": [
      "Epoch 1/17\n",
      "551/551 [==============================] - 19s 33ms/step - loss: 0.9242 - accuracy: 0.5190\n",
      "Epoch 2/17\n",
      "551/551 [==============================] - 20s 36ms/step - loss: 0.6058 - accuracy: 0.7079\n",
      "Epoch 3/17\n",
      "551/551 [==============================] - 21s 38ms/step - loss: 0.4025 - accuracy: 0.8413\n",
      "Epoch 4/17\n",
      "551/551 [==============================] - 20s 36ms/step - loss: 0.2936 - accuracy: 0.8855\n",
      "Epoch 5/17\n",
      "551/551 [==============================] - 20s 37ms/step - loss: 0.2582 - accuracy: 0.9000\n",
      "Epoch 6/17\n",
      "551/551 [==============================] - 21s 38ms/step - loss: 0.2392 - accuracy: 0.9073\n",
      "Epoch 7/17\n",
      "551/551 [==============================] - 24s 43ms/step - loss: 0.2047 - accuracy: 0.9215\n",
      "Epoch 8/17\n",
      "551/551 [==============================] - 21s 39ms/step - loss: 0.1836 - accuracy: 0.9267\n",
      "Epoch 9/17\n",
      "551/551 [==============================] - 19s 35ms/step - loss: 0.1800 - accuracy: 0.9280\n",
      "Epoch 10/17\n",
      "551/551 [==============================] - 20s 36ms/step - loss: 0.1678 - accuracy: 0.9369\n",
      "Epoch 11/17\n",
      "551/551 [==============================] - 25s 46ms/step - loss: 0.1543 - accuracy: 0.9387\n",
      "Epoch 12/17\n",
      "551/551 [==============================] - 23s 41ms/step - loss: 0.1434 - accuracy: 0.9440\n",
      "Epoch 13/17\n",
      "551/551 [==============================] - 25s 45ms/step - loss: 0.1307 - accuracy: 0.9482\n",
      "Epoch 14/17\n",
      "551/551 [==============================] - 23s 41ms/step - loss: 0.1324 - accuracy: 0.9482\n",
      "Epoch 15/17\n",
      "551/551 [==============================] - 22s 39ms/step - loss: 0.1208 - accuracy: 0.9511\n",
      "Epoch 16/17\n",
      "551/551 [==============================] - 22s 40ms/step - loss: 0.1079 - accuracy: 0.9553\n",
      "Epoch 17/17\n",
      "551/551 [==============================] - 22s 39ms/step - loss: 0.1188 - accuracy: 0.9553\n"
     ]
    },
    {
     "data": {
      "text/plain": [
       "<keras.callbacks.History at 0x16be76cf988>"
      ]
     },
     "execution_count": 35,
     "metadata": {},
     "output_type": "execute_result"
    }
   ],
   "source": [
    "model = Sequential()\n",
    "model.add(Conv2D(32, (3, 3), activation=('relu'), input_shape=(20, 20, 3)))\n",
    "model.add(MaxPooling2D((2, 2)))\n",
    "model.add(Conv2D(64,(3,3), activation=('relu')))\n",
    "model.add(MaxPooling2D(2,2))\n",
    "model.add(Flatten())\n",
    "model.add(Dense(128, activation=('relu')))\n",
    "model.add(Dense(128, activation=('relu')))\n",
    "model.add(Dense(6, activation=('softmax')))\n",
    "#evaluating the model\n",
    "model.compile(optimizer='adam', loss='categorical_crossentropy', metrics=['accuracy'])\n",
    "model.fit(train_batches, epochs=17)"
   ]
  },
  {
   "cell_type": "markdown",
   "metadata": {},
   "source": [
    "### DenseNet evaluation"
   ]
  },
  {
   "cell_type": "code",
   "execution_count": 36,
   "metadata": {},
   "outputs": [
    {
     "name": "stdout",
     "output_type": "stream",
     "text": [
      "139/139 [==============================] - 4s 28ms/step - loss: 0.0878 - accuracy: 0.9653\n"
     ]
    },
    {
     "data": {
      "text/plain": [
       "[0.08780086785554886, 0.9653179049491882]"
      ]
     },
     "execution_count": 36,
     "metadata": {},
     "output_type": "execute_result"
    }
   ],
   "source": [
    "model.evaluate(test_batches)"
   ]
  },
  {
   "cell_type": "markdown",
   "metadata": {},
   "source": [
    "## Using Vgg19"
   ]
  },
  {
   "cell_type": "code",
   "execution_count": 21,
   "metadata": {},
   "outputs": [
    {
     "name": "stdout",
     "output_type": "stream",
     "text": [
      "Found 5501 images belonging to 6 classes.\n",
      "Found 1384 images belonging to 6 classes.\n"
     ]
    }
   ],
   "source": [
    "train_batches = ImageDataGenerator(\n",
    "    preprocessing_function=tf.keras.applications.vgg19.preprocess_input,\n",
    "    rescale=1/255.,\n",
    "    horizontal_flip=True,\n",
    "    vertical_flip=True\n",
    ").flow_from_directory(\n",
    "    directory=train_path,\n",
    "    target_size=(20, 20),\n",
    "    classes=['freshapples', 'freshbananas', 'freshoranges', 'rottenapples', 'rottenbananas','rottenorganges'],\n",
    "    batch_size=BATCH_SIZE,\n",
    "    class_mode='categorical',\n",
    "    color_mode='rgb'\n",
    ")\n",
    "test_batches = ImageDataGenerator(\n",
    "    preprocessing_function=tf.keras.applications.vgg19.preprocess_input, rescale=1/255.\n",
    ").flow_from_directory(\n",
    "    directory=test_path,\n",
    "    target_size=(20, 20),\n",
    "    classes=['freshapples', 'freshbananas', 'freshoranges', 'rottenapples', 'rottenbananas','rottenorganges'],\n",
    "    batch_size=BATCH_SIZE,\n",
    "    class_mode='categorical',\n",
    "    color_mode='rgb',\n",
    "    shuffle=False\n",
    ")"
   ]
  },
  {
   "cell_type": "code",
   "execution_count": 23,
   "metadata": {},
   "outputs": [
    {
     "name": "stdout",
     "output_type": "stream",
     "text": [
      "Epoch 1/17\n",
      "551/551 [==============================] - 23s 41ms/step - loss: 0.4363 - accuracy: 0.8108\n",
      "Epoch 2/17\n",
      "551/551 [==============================] - 17s 32ms/step - loss: 0.2420 - accuracy: 0.9051\n",
      "Epoch 3/17\n",
      "551/551 [==============================] - 19s 34ms/step - loss: 0.1722 - accuracy: 0.9322\n",
      "Epoch 4/17\n",
      "551/551 [==============================] - 18s 33ms/step - loss: 0.1611 - accuracy: 0.9382\n",
      "Epoch 5/17\n",
      "551/551 [==============================] - 20s 36ms/step - loss: 0.1360 - accuracy: 0.9455\n",
      "Epoch 6/17\n",
      "551/551 [==============================] - 19s 34ms/step - loss: 0.1102 - accuracy: 0.9584\n",
      "Epoch 7/17\n",
      "551/551 [==============================] - 20s 36ms/step - loss: 0.0960 - accuracy: 0.9633\n",
      "Epoch 8/17\n",
      "551/551 [==============================] - 19s 34ms/step - loss: 0.0893 - accuracy: 0.9649\n",
      "Epoch 9/17\n",
      "551/551 [==============================] - 19s 34ms/step - loss: 0.0600 - accuracy: 0.9760\n",
      "Epoch 10/17\n",
      "551/551 [==============================] - 19s 35ms/step - loss: 0.0675 - accuracy: 0.9740\n",
      "Epoch 11/17\n",
      "551/551 [==============================] - 19s 35ms/step - loss: 0.0729 - accuracy: 0.9731\n",
      "Epoch 12/17\n",
      "551/551 [==============================] - 19s 35ms/step - loss: 0.0551 - accuracy: 0.9807\n",
      "Epoch 13/17\n",
      "551/551 [==============================] - 19s 35ms/step - loss: 0.0474 - accuracy: 0.9798\n",
      "Epoch 14/17\n",
      "551/551 [==============================] - 19s 35ms/step - loss: 0.0511 - accuracy: 0.9822\n",
      "Epoch 15/17\n",
      "551/551 [==============================] - 20s 36ms/step - loss: 0.0589 - accuracy: 0.9809\n",
      "Epoch 16/17\n",
      "551/551 [==============================] - 19s 35ms/step - loss: 0.0455 - accuracy: 0.9845\n",
      "Epoch 17/17\n",
      "551/551 [==============================] - 19s 35ms/step - loss: 0.0409 - accuracy: 0.9847\n"
     ]
    },
    {
     "data": {
      "text/plain": [
       "<keras.callbacks.History at 0x16be332e1c8>"
      ]
     },
     "execution_count": 23,
     "metadata": {},
     "output_type": "execute_result"
    }
   ],
   "source": [
    "model = Sequential()\n",
    "model.add(Conv2D(32, (3, 3), activation=('relu'), input_shape=(20, 20, 3)))\n",
    "model.add(MaxPooling2D((2, 2)))\n",
    "model.add(Conv2D(64,(3,3), activation=('relu')))\n",
    "model.add(MaxPooling2D(2,2))\n",
    "model.add(Flatten())\n",
    "model.add(Dense(128, activation=('relu')))\n",
    "model.add(Dense(128, activation=('relu')))\n",
    "model.add(Dense(6, activation=('softmax')))\n",
    "#evaluating the model\n",
    "model.compile(optimizer='adam', loss='categorical_crossentropy', metrics=['accuracy'])\n",
    "model.fit(train_batches, epochs=17)"
   ]
  },
  {
   "cell_type": "markdown",
   "metadata": {},
   "source": [
    "### Vgg19 evaluation"
   ]
  },
  {
   "cell_type": "code",
   "execution_count": 24,
   "metadata": {},
   "outputs": [
    {
     "name": "stdout",
     "output_type": "stream",
     "text": [
      "139/139 [==============================] - 5s 39ms/step - loss: 0.0634 - accuracy: 0.9769\n"
     ]
    },
    {
     "data": {
      "text/plain": [
       "[0.06338992714881897, 0.9768785834312439]"
      ]
     },
     "execution_count": 24,
     "metadata": {},
     "output_type": "execute_result"
    }
   ],
   "source": [
    "model.evaluate(test_batches)"
   ]
  },
  {
   "cell_type": "markdown",
   "metadata": {},
   "source": [
    "# Final Results - \n",
    "\n",
    "## VggNet - \n",
    "#### Avg training time = 19.412\n",
    "#### Testing time = 6sec (5699 ms)\n",
    "#### Accuracy = 98.41%\n",
    "\n",
    "## ResNet - \n",
    "#### Avg training time = 18.47\n",
    "#### Testing time = 5sec (4726 ms)\n",
    "#### Accuracy = 98.12%\n",
    "\n",
    "## NasNet - \n",
    "#### Avg training time ______\n",
    "#### Testing time = 6sec (5143 ms)\n",
    "#### Accuracy = 93.79%\n",
    "\n",
    "## Xception - \n",
    "#### Avg training time ______\n",
    "#### Testing time = 5sec (3753 ms)\n",
    "#### Accuracy = 92.34%\n",
    "\n",
    "## ResNet50 - \n",
    "#### Avg training time = 19.76\n",
    "#### Testing time = 4sec (3753 ms)\n",
    "#### Accuracy = 98.27%\n",
    "\n",
    "## ResNet v2 - \n",
    "#### Avg training time = ______\n",
    "#### Testing time = 5sec (4031 ms)\n",
    "#### Accuracy = 95.38%\n",
    "\n",
    "## DenseNet - \n",
    "#### Avg training time = ______\n",
    "#### Testing time = 4sec (3892 ms)\n",
    "#### Accuracy = 96.53%\n",
    "\n",
    "## VggNet19 (17 epochs) - \n",
    "#### Avg training time ______\n",
    "#### Testing time = 5sec (5421 ms)\n",
    "#### Accuracy = 97.69%"
   ]
  },
  {
   "cell_type": "markdown",
   "metadata": {},
   "source": [
    "## Graphical Representation"
   ]
  },
  {
   "cell_type": "code",
   "execution_count": 6,
   "metadata": {},
   "outputs": [],
   "source": [
    "data = [['VggNet16', 5143, 98.41], ['ResNet', 4031, 95.38], ['NasNet', 5143, 93.79], ['Xception', 3753, 92.34]\n",
    "       , ['ResNet50', 3753, 98.27], ['ResNetv2', 4031, 95.38], ['DenseNet', 3892, 96.53], ['VggNet19', 5421, 97.69]]\n",
    "\n",
    "df = pd.DataFrame(data, columns = ['Architecture', 'Speed', 'Accuracy'])"
   ]
  },
  {
   "cell_type": "code",
   "execution_count": 7,
   "metadata": {},
   "outputs": [
    {
     "data": {
      "image/png": "[encoded data removed]",
      "text/plain": [
       "<Figure size 864x576 with 1 Axes>"
      ]
     },
     "metadata": {
      "needs_background": "light"
     },
     "output_type": "display_data"
    }
   ],
   "source": [
    "speed = df['Speed']\n",
    "accuracy = df['Accuracy']\n",
    "architectures = df['Architecture']\n",
    "plt.figure(figsize=(12,8))\n",
    "plt.title(\"Speed Comparison Chart\")\n",
    "plt.plot(architectures, speed, marker = 'o', color = 'red', markerfacecolor = 'black', linewidth = 3\n",
    "        , label='Speed measured in ms')\n",
    "plt.xticks(architectures)\n",
    "plt.legend(loc=\"lower right\")\n",
    "plt.grid(True, linewidth= 1, linestyle=\"--\")\n",
    "plt.xlabel(\"Architecture\", fontsize=18)\n",
    "plt.ylabel(\"Speed (in ms)\", fontsize=18)\n",
    "plt.show()"
   ]
  },
  {
   "cell_type": "code",
   "execution_count": 8,
   "metadata": {},
   "outputs": [
    {
     "data": {
      "image/png": "[encoded data removed]",
      "text/plain": [
       "<Figure size 864x576 with 1 Axes>"
      ]
     },
     "metadata": {
      "needs_background": "light"
     },
     "output_type": "display_data"
    }
   ],
   "source": [
    "speed = df['Speed']\n",
    "accuracy = df['Accuracy']\n",
    "architectures = df['Architecture']\n",
    "plt.figure(figsize=(12,8))\n",
    "plt.title(\"Accuracy Comparison Chart\")\n",
    "plt.plot(architectures, accuracy, marker = 'o', color = 'green', markerfacecolor = 'black', linewidth = 3\n",
    "        , label='Accuracy')\n",
    "plt.xticks(architectures)\n",
    "plt.legend(loc=\"lower right\")\n",
    "plt.xlabel(\"Architecture\", fontsize=18)\n",
    "plt.grid(True, linewidth= 1, linestyle=\"--\")\n",
    "plt.ylabel(\"Accuracy (in %)\", fontsize=18)\n",
    "plt.show()"
   ]
  },
  {
   "cell_type": "code",
   "execution_count": null,
   "metadata": {},
   "outputs": [],
   "source": []
  }
 ],
 "metadata": {
  "kernelspec": {
   "display_name": "Python 3",
   "language": "python",
   "name": "python3"
  },
  "language_info": {
   "codemirror_mode": {
    "name": "ipython",
    "version": 3
   },
   "file_extension": ".py",
   "mimetype": "text/x-python",
   "name": "python",
   "nbconvert_exporter": "python",
   "pygments_lexer": "ipython3",
   "version": "3.7.4"
  }
 },
 "nbformat": 4,
 "nbformat_minor": 2
}
